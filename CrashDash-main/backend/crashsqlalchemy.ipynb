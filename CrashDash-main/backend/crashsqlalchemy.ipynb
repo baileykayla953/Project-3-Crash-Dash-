{
 "cells": [
  {
   "cell_type": "code",
   "execution_count": 1,
   "metadata": {},
   "outputs": [],
   "source": [
    "import pandas as pd\n",
    "import matplotlib.pyplot as plt\n",
    "from sqlalchemy import create_engine\n",
    "import sqlite3\n",
    "import geopandas as gpd \n",
    "import json"
   ]
  },
  {
   "cell_type": "code",
   "execution_count": 2,
   "metadata": {},
   "outputs": [],
   "source": [
    "clean_crash_data = pd.read_csv('cleaned_crash_data.csv')\n",
    "\n",
    "# Read in the GeoJSON files as a GeoDataFrame\n",
    "geo_crash_data = gpd.read_file('cleaned_crash_data.geojson')\n",
    "geo_boundary_data = gpd.read_file('Texas_County_Boundaries.geojson')"
   ]
  },
  {
   "cell_type": "code",
   "execution_count": 3,
   "metadata": {},
   "outputs": [],
   "source": [
    "# Convert the GeoDataFrames to regular Pandas DataFrames\n",
    "geo_crash_data = pd.DataFrame(geo_crash_data)\n",
    "geo_boundary_data = pd.DataFrame(geo_boundary_data)\n",
    "\n",
    "# Convert the geometry column to a JSON column\n",
    "geo_crash_data['geometry'] = geo_crash_data['geometry'].apply(lambda x: json.dumps(x.__geo_interface__))\n",
    "geo_boundary_data['geometry'] = geo_boundary_data['geometry'].apply(lambda x: json.dumps(x.__geo_interface__))"
   ]
  },
  {
   "cell_type": "code",
   "execution_count": 4,
   "metadata": {},
   "outputs": [
    {
     "data": {
      "text/plain": [
       "254"
      ]
     },
     "execution_count": 4,
     "metadata": {},
     "output_type": "execute_result"
    }
   ],
   "source": [
    "# SQLite database file \n",
    "engine = create_engine('sqlite:///crash_data.db')\n",
    "\n",
    "# Store the dataframes in the database\n",
    "clean_crash_data.to_sql('crashes', engine, if_exists='replace', index=False)\n",
    "geo_crash_data.to_sql('geocrashes', engine, if_exists='replace', index=False)\n",
    "geo_boundary_data.to_sql('geoboundaries', engine, if_exists='replace', index=False)"
   ]
  },
  {
   "cell_type": "code",
   "execution_count": 5,
   "metadata": {},
   "outputs": [],
   "source": [
    "# Connect to  SQLite database\n",
    "conn = sqlite3.connect('crash_data.db')"
   ]
  },
  {
   "attachments": {},
   "cell_type": "markdown",
   "metadata": {},
   "source": [
    "Queries"
   ]
  },
  {
   "cell_type": "code",
   "execution_count": 6,
   "metadata": {},
   "outputs": [
    {
     "data": {
      "text/html": [
       "<div>\n",
       "<style scoped>\n",
       "    .dataframe tbody tr th:only-of-type {\n",
       "        vertical-align: middle;\n",
       "    }\n",
       "\n",
       "    .dataframe tbody tr th {\n",
       "        vertical-align: top;\n",
       "    }\n",
       "\n",
       "    .dataframe thead th {\n",
       "        text-align: right;\n",
       "    }\n",
       "</style>\n",
       "<table border=\"1\" class=\"dataframe\">\n",
       "  <thead>\n",
       "    <tr style=\"text-align: right;\">\n",
       "      <th></th>\n",
       "      <th>Crash ID</th>\n",
       "      <th>Number of People Involved</th>\n",
       "    </tr>\n",
       "  </thead>\n",
       "  <tbody>\n",
       "    <tr>\n",
       "      <th>0</th>\n",
       "      <td>18429001</td>\n",
       "      <td>3</td>\n",
       "    </tr>\n",
       "    <tr>\n",
       "      <th>1</th>\n",
       "      <td>18674968</td>\n",
       "      <td>1</td>\n",
       "    </tr>\n",
       "    <tr>\n",
       "      <th>2</th>\n",
       "      <td>18676126</td>\n",
       "      <td>3</td>\n",
       "    </tr>\n",
       "    <tr>\n",
       "      <th>3</th>\n",
       "      <td>18677918</td>\n",
       "      <td>3</td>\n",
       "    </tr>\n",
       "    <tr>\n",
       "      <th>4</th>\n",
       "      <td>18679166</td>\n",
       "      <td>1</td>\n",
       "    </tr>\n",
       "    <tr>\n",
       "      <th>...</th>\n",
       "      <td>...</td>\n",
       "      <td>...</td>\n",
       "    </tr>\n",
       "    <tr>\n",
       "      <th>1925</th>\n",
       "      <td>19366862</td>\n",
       "      <td>2</td>\n",
       "    </tr>\n",
       "    <tr>\n",
       "      <th>1926</th>\n",
       "      <td>19393976</td>\n",
       "      <td>5</td>\n",
       "    </tr>\n",
       "    <tr>\n",
       "      <th>1927</th>\n",
       "      <td>19394558</td>\n",
       "      <td>2</td>\n",
       "    </tr>\n",
       "    <tr>\n",
       "      <th>1928</th>\n",
       "      <td>19411341</td>\n",
       "      <td>2</td>\n",
       "    </tr>\n",
       "    <tr>\n",
       "      <th>1929</th>\n",
       "      <td>19415282</td>\n",
       "      <td>2</td>\n",
       "    </tr>\n",
       "  </tbody>\n",
       "</table>\n",
       "<p>1930 rows × 2 columns</p>\n",
       "</div>"
      ],
      "text/plain": [
       "      Crash ID  Number of People Involved\n",
       "0     18429001                          3\n",
       "1     18674968                          1\n",
       "2     18676126                          3\n",
       "3     18677918                          3\n",
       "4     18679166                          1\n",
       "...        ...                        ...\n",
       "1925  19366862                          2\n",
       "1926  19393976                          5\n",
       "1927  19394558                          2\n",
       "1928  19411341                          2\n",
       "1929  19415282                          2\n",
       "\n",
       "[1930 rows x 2 columns]"
      ]
     },
     "execution_count": 6,
     "metadata": {},
     "output_type": "execute_result"
    }
   ],
   "source": [
    "# How many people are involved in each crash?\n",
    "people_per_crash = pd.read_sql_query(\"SELECT `Crash ID`, COUNT(*) as `Number of People Involved` FROM crashes GROUP BY `Crash ID`\", conn)\n",
    "people_per_crash"
   ]
  },
  {
   "cell_type": "code",
   "execution_count": 7,
   "metadata": {},
   "outputs": [
    {
     "name": "stdout",
     "output_type": "stream",
     "text": [
      "There are 1930 unique Crash IDs in this data set.\n"
     ]
    }
   ],
   "source": [
    "# How many crashes are in this data set?\n",
    "unique_crash_ids_count = pd.read_sql_query(\"SELECT COUNT(DISTINCT `Crash ID`) as unique_crash_ids FROM crashes\", conn)\n",
    "count = unique_crash_ids_count.iloc[0]['unique_crash_ids']\n",
    "print(f\"There are {count} unique Crash IDs in this data set.\")"
   ]
  },
  {
   "cell_type": "code",
   "execution_count": 8,
   "metadata": {},
   "outputs": [
    {
     "data": {
      "text/html": [
       "<div>\n",
       "<style scoped>\n",
       "    .dataframe tbody tr th:only-of-type {\n",
       "        vertical-align: middle;\n",
       "    }\n",
       "\n",
       "    .dataframe tbody tr th {\n",
       "        vertical-align: top;\n",
       "    }\n",
       "\n",
       "    .dataframe thead th {\n",
       "        text-align: right;\n",
       "    }\n",
       "</style>\n",
       "<table border=\"1\" class=\"dataframe\">\n",
       "  <thead>\n",
       "    <tr style=\"text-align: right;\">\n",
       "      <th></th>\n",
       "      <th>COUNT(*)</th>\n",
       "    </tr>\n",
       "  </thead>\n",
       "  <tbody>\n",
       "    <tr>\n",
       "      <th>0</th>\n",
       "      <td>1854</td>\n",
       "    </tr>\n",
       "  </tbody>\n",
       "</table>\n",
       "</div>"
      ],
      "text/plain": [
       "   COUNT(*)\n",
       "0      1854"
      ]
     },
     "execution_count": 8,
     "metadata": {},
     "output_type": "execute_result"
    }
   ],
   "source": [
    "# How many fatalities are in this data set?\n",
    "fatalities = pd.read_sql_query(\"SELECT COUNT(*) FROM crashes WHERE `Crash Severity` = 'K - FATAL INJURY'\", conn)\n",
    "fatalities "
   ]
  },
  {
   "cell_type": "code",
   "execution_count": 9,
   "metadata": {},
   "outputs": [
    {
     "data": {
      "text/html": [
       "<div>\n",
       "<style scoped>\n",
       "    .dataframe tbody tr th:only-of-type {\n",
       "        vertical-align: middle;\n",
       "    }\n",
       "\n",
       "    .dataframe tbody tr th {\n",
       "        vertical-align: top;\n",
       "    }\n",
       "\n",
       "    .dataframe thead th {\n",
       "        text-align: right;\n",
       "    }\n",
       "</style>\n",
       "<table border=\"1\" class=\"dataframe\">\n",
       "  <thead>\n",
       "    <tr style=\"text-align: right;\">\n",
       "      <th></th>\n",
       "      <th>COUNT(*)</th>\n",
       "    </tr>\n",
       "  </thead>\n",
       "  <tbody>\n",
       "    <tr>\n",
       "      <th>0</th>\n",
       "      <td>4241</td>\n",
       "    </tr>\n",
       "  </tbody>\n",
       "</table>\n",
       "</div>"
      ],
      "text/plain": [
       "   COUNT(*)\n",
       "0      4241"
      ]
     },
     "execution_count": 9,
     "metadata": {},
     "output_type": "execute_result"
    }
   ],
   "source": [
    "# How many serious injuries are in this data set?\n",
    "serious_injuries = pd.read_sql_query(\"SELECT COUNT(*) FROM crashes WHERE `Crash Severity` = 'A - SUSPECTED SERIOUS INJURY'\", conn)\n",
    "serious_injuries"
   ]
  },
  {
   "cell_type": "code",
   "execution_count": 10,
   "metadata": {},
   "outputs": [
    {
     "data": {
      "text/html": [
       "<div>\n",
       "<style scoped>\n",
       "    .dataframe tbody tr th:only-of-type {\n",
       "        vertical-align: middle;\n",
       "    }\n",
       "\n",
       "    .dataframe tbody tr th {\n",
       "        vertical-align: top;\n",
       "    }\n",
       "\n",
       "    .dataframe thead th {\n",
       "        text-align: right;\n",
       "    }\n",
       "</style>\n",
       "<table border=\"1\" class=\"dataframe\">\n",
       "  <thead>\n",
       "    <tr style=\"text-align: right;\">\n",
       "      <th></th>\n",
       "      <th>Crash ID</th>\n",
       "    </tr>\n",
       "  </thead>\n",
       "  <tbody>\n",
       "    <tr>\n",
       "      <th>27</th>\n",
       "      <td>19195596</td>\n",
       "    </tr>\n",
       "    <tr>\n",
       "      <th>28</th>\n",
       "      <td>19203866</td>\n",
       "    </tr>\n",
       "    <tr>\n",
       "      <th>29</th>\n",
       "      <td>19231488</td>\n",
       "    </tr>\n",
       "    <tr>\n",
       "      <th>30</th>\n",
       "      <td>19297648</td>\n",
       "    </tr>\n",
       "    <tr>\n",
       "      <th>31</th>\n",
       "      <td>19393976</td>\n",
       "    </tr>\n",
       "  </tbody>\n",
       "</table>\n",
       "</div>"
      ],
      "text/plain": [
       "    Crash ID\n",
       "27  19195596\n",
       "28  19203866\n",
       "29  19231488\n",
       "30  19297648\n",
       "31  19393976"
      ]
     },
     "execution_count": 10,
     "metadata": {},
     "output_type": "execute_result"
    }
   ],
   "source": [
    "# How many crashes involved a school bus? \n",
    "school_bus_crashes = pd.read_sql_query(\"SELECT DISTINCT `Crash ID` FROM crashes WHERE `School Bus Flag` = 1\", conn)\n",
    "school_bus_crashes.tail()"
   ]
  },
  {
   "cell_type": "code",
   "execution_count": 11,
   "metadata": {},
   "outputs": [
    {
     "data": {
      "text/html": [
       "<div>\n",
       "<style scoped>\n",
       "    .dataframe tbody tr th:only-of-type {\n",
       "        vertical-align: middle;\n",
       "    }\n",
       "\n",
       "    .dataframe tbody tr th {\n",
       "        vertical-align: top;\n",
       "    }\n",
       "\n",
       "    .dataframe thead th {\n",
       "        text-align: right;\n",
       "    }\n",
       "</style>\n",
       "<table border=\"1\" class=\"dataframe\">\n",
       "  <thead>\n",
       "    <tr style=\"text-align: right;\">\n",
       "      <th></th>\n",
       "      <th>Crash ID</th>\n",
       "    </tr>\n",
       "  </thead>\n",
       "  <tbody>\n",
       "    <tr>\n",
       "      <th>1925</th>\n",
       "      <td>19318996</td>\n",
       "    </tr>\n",
       "    <tr>\n",
       "      <th>1926</th>\n",
       "      <td>19324110</td>\n",
       "    </tr>\n",
       "    <tr>\n",
       "      <th>1927</th>\n",
       "      <td>19325090</td>\n",
       "    </tr>\n",
       "    <tr>\n",
       "      <th>1928</th>\n",
       "      <td>19366862</td>\n",
       "    </tr>\n",
       "    <tr>\n",
       "      <th>1929</th>\n",
       "      <td>19415282</td>\n",
       "    </tr>\n",
       "  </tbody>\n",
       "</table>\n",
       "</div>"
      ],
      "text/plain": [
       "      Crash ID\n",
       "1925  19318996\n",
       "1926  19324110\n",
       "1927  19325090\n",
       "1928  19366862\n",
       "1929  19415282"
      ]
     },
     "execution_count": 11,
     "metadata": {},
     "output_type": "execute_result"
    }
   ],
   "source": [
    "# How many crashes involved a commercial vehicle? \n",
    "cmv_crashes = pd.read_sql_query(\"SELECT DISTINCT `Crash ID` FROM crashes WHERE `Commercial Motor Vehicle Flag` = 1\", conn)\n",
    "cmv_crashes.tail()"
   ]
  },
  {
   "cell_type": "code",
   "execution_count": 12,
   "metadata": {},
   "outputs": [
    {
     "data": {
      "text/html": [
       "<div>\n",
       "<style scoped>\n",
       "    .dataframe tbody tr th:only-of-type {\n",
       "        vertical-align: middle;\n",
       "    }\n",
       "\n",
       "    .dataframe tbody tr th {\n",
       "        vertical-align: top;\n",
       "    }\n",
       "\n",
       "    .dataframe thead th {\n",
       "        text-align: right;\n",
       "    }\n",
       "</style>\n",
       "<table border=\"1\" class=\"dataframe\">\n",
       "  <thead>\n",
       "    <tr style=\"text-align: right;\">\n",
       "      <th></th>\n",
       "      <th>Crash ID</th>\n",
       "    </tr>\n",
       "  </thead>\n",
       "  <tbody>\n",
       "    <tr>\n",
       "      <th>1269</th>\n",
       "      <td>19348989</td>\n",
       "    </tr>\n",
       "    <tr>\n",
       "      <th>1270</th>\n",
       "      <td>19318996</td>\n",
       "    </tr>\n",
       "    <tr>\n",
       "      <th>1271</th>\n",
       "      <td>19324110</td>\n",
       "    </tr>\n",
       "    <tr>\n",
       "      <th>1272</th>\n",
       "      <td>19366862</td>\n",
       "    </tr>\n",
       "    <tr>\n",
       "      <th>1273</th>\n",
       "      <td>19415282</td>\n",
       "    </tr>\n",
       "  </tbody>\n",
       "</table>\n",
       "</div>"
      ],
      "text/plain": [
       "      Crash ID\n",
       "1269  19348989\n",
       "1270  19318996\n",
       "1271  19324110\n",
       "1272  19366862\n",
       "1273  19415282"
      ]
     },
     "execution_count": 12,
     "metadata": {},
     "output_type": "execute_result"
    }
   ],
   "source": [
    "# How many crashes involved a speed limit over 55?\n",
    "speed_limit_over_55_crashes = pd.read_sql_query(\"SELECT DISTINCT `Crash ID` FROM crashes WHERE `Speed Limit` > 55\", conn)\n",
    "speed_limit_over_55_crashes.tail()"
   ]
  },
  {
   "cell_type": "code",
   "execution_count": 13,
   "metadata": {},
   "outputs": [
    {
     "data": {
      "text/html": [
       "<div>\n",
       "<style scoped>\n",
       "    .dataframe tbody tr th:only-of-type {\n",
       "        vertical-align: middle;\n",
       "    }\n",
       "\n",
       "    .dataframe tbody tr th {\n",
       "        vertical-align: top;\n",
       "    }\n",
       "\n",
       "    .dataframe thead th {\n",
       "        text-align: right;\n",
       "    }\n",
       "</style>\n",
       "<table border=\"1\" class=\"dataframe\">\n",
       "  <thead>\n",
       "    <tr style=\"text-align: right;\">\n",
       "      <th></th>\n",
       "      <th>Crash ID</th>\n",
       "    </tr>\n",
       "  </thead>\n",
       "  <tbody>\n",
       "    <tr>\n",
       "      <th>621</th>\n",
       "      <td>19394558</td>\n",
       "    </tr>\n",
       "    <tr>\n",
       "      <th>622</th>\n",
       "      <td>19303087</td>\n",
       "    </tr>\n",
       "    <tr>\n",
       "      <th>623</th>\n",
       "      <td>19308211</td>\n",
       "    </tr>\n",
       "    <tr>\n",
       "      <th>624</th>\n",
       "      <td>19314322</td>\n",
       "    </tr>\n",
       "    <tr>\n",
       "      <th>625</th>\n",
       "      <td>19313534</td>\n",
       "    </tr>\n",
       "  </tbody>\n",
       "</table>\n",
       "</div>"
      ],
      "text/plain": [
       "     Crash ID\n",
       "621  19394558\n",
       "622  19303087\n",
       "623  19308211\n",
       "624  19314322\n",
       "625  19313534"
      ]
     },
     "execution_count": 13,
     "metadata": {},
     "output_type": "execute_result"
    }
   ],
   "source": [
    "# How many crashes involved a speed limit between 26 and 55?\n",
    "speed_limit_26_to_55_crashes = pd.read_sql_query(\"SELECT DISTINCT `Crash ID` FROM crashes WHERE `Speed Limit` >= 26 AND `Speed Limit` <= 55\", conn)\n",
    "speed_limit_26_to_55_crashes.tail()"
   ]
  },
  {
   "cell_type": "code",
   "execution_count": 14,
   "metadata": {},
   "outputs": [
    {
     "name": "stdout",
     "output_type": "stream",
     "text": [
      "There are 626 crashes involving a speed limit between 26 and 55.\n"
     ]
    }
   ],
   "source": [
    "unique_speed_limit_26_to_55_crashes = speed_limit_26_to_55_crashes.shape[0]\n",
    "print(f\"There are {unique_speed_limit_26_to_55_crashes} crashes involving a speed limit between 26 and 55.\")"
   ]
  },
  {
   "cell_type": "code",
   "execution_count": 15,
   "metadata": {},
   "outputs": [
    {
     "data": {
      "text/html": [
       "<div>\n",
       "<style scoped>\n",
       "    .dataframe tbody tr th:only-of-type {\n",
       "        vertical-align: middle;\n",
       "    }\n",
       "\n",
       "    .dataframe tbody tr th {\n",
       "        vertical-align: top;\n",
       "    }\n",
       "\n",
       "    .dataframe thead th {\n",
       "        text-align: right;\n",
       "    }\n",
       "</style>\n",
       "<table border=\"1\" class=\"dataframe\">\n",
       "  <thead>\n",
       "    <tr style=\"text-align: right;\">\n",
       "      <th></th>\n",
       "      <th>Crash ID</th>\n",
       "    </tr>\n",
       "  </thead>\n",
       "  <tbody>\n",
       "    <tr>\n",
       "      <th>25</th>\n",
       "      <td>19197546</td>\n",
       "    </tr>\n",
       "    <tr>\n",
       "      <th>26</th>\n",
       "      <td>19234524</td>\n",
       "    </tr>\n",
       "    <tr>\n",
       "      <th>27</th>\n",
       "      <td>19281523</td>\n",
       "    </tr>\n",
       "    <tr>\n",
       "      <th>28</th>\n",
       "      <td>19277183</td>\n",
       "    </tr>\n",
       "    <tr>\n",
       "      <th>29</th>\n",
       "      <td>19325090</td>\n",
       "    </tr>\n",
       "  </tbody>\n",
       "</table>\n",
       "</div>"
      ],
      "text/plain": [
       "    Crash ID\n",
       "25  19197546\n",
       "26  19234524\n",
       "27  19281523\n",
       "28  19277183\n",
       "29  19325090"
      ]
     },
     "execution_count": 15,
     "metadata": {},
     "output_type": "execute_result"
    }
   ],
   "source": [
    "# How many crashes involved a speed limit equal to or under 25?\n",
    "speed_limit_under_25_crashes = pd.read_sql_query(\"SELECT DISTINCT `Crash ID` FROM crashes WHERE `Speed Limit` <= 25\", conn)\n",
    "speed_limit_under_25_crashes.tail()"
   ]
  },
  {
   "cell_type": "code",
   "execution_count": 16,
   "metadata": {},
   "outputs": [
    {
     "data": {
      "text/html": [
       "<div>\n",
       "<style scoped>\n",
       "    .dataframe tbody tr th:only-of-type {\n",
       "        vertical-align: middle;\n",
       "    }\n",
       "\n",
       "    .dataframe tbody tr th {\n",
       "        vertical-align: top;\n",
       "    }\n",
       "\n",
       "    .dataframe thead th {\n",
       "        text-align: right;\n",
       "    }\n",
       "</style>\n",
       "<table border=\"1\" class=\"dataframe\">\n",
       "  <thead>\n",
       "    <tr style=\"text-align: right;\">\n",
       "      <th></th>\n",
       "      <th>Crash ID</th>\n",
       "    </tr>\n",
       "  </thead>\n",
       "  <tbody>\n",
       "    <tr>\n",
       "      <th>335</th>\n",
       "      <td>19347792</td>\n",
       "    </tr>\n",
       "    <tr>\n",
       "      <th>336</th>\n",
       "      <td>19324110</td>\n",
       "    </tr>\n",
       "    <tr>\n",
       "      <th>337</th>\n",
       "      <td>19325090</td>\n",
       "    </tr>\n",
       "    <tr>\n",
       "      <th>338</th>\n",
       "      <td>19366862</td>\n",
       "    </tr>\n",
       "    <tr>\n",
       "      <th>339</th>\n",
       "      <td>19415282</td>\n",
       "    </tr>\n",
       "  </tbody>\n",
       "</table>\n",
       "</div>"
      ],
      "text/plain": [
       "     Crash ID\n",
       "335  19347792\n",
       "336  19324110\n",
       "337  19325090\n",
       "338  19366862\n",
       "339  19415282"
      ]
     },
     "execution_count": 16,
     "metadata": {},
     "output_type": "execute_result"
    }
   ],
   "source": [
    "# How many crashes happened on Saturdays and Sundays?\n",
    "weekend_crashes = pd.read_sql_query(\"SELECT DISTINCT `Crash ID` FROM crashes WHERE `Day of Week` IN ('SATURDAY', 'SUNDAY')\", conn)\n",
    "weekend_crashes.tail()"
   ]
  },
  {
   "cell_type": "code",
   "execution_count": 17,
   "metadata": {},
   "outputs": [
    {
     "data": {
      "text/html": [
       "<div>\n",
       "<style scoped>\n",
       "    .dataframe tbody tr th:only-of-type {\n",
       "        vertical-align: middle;\n",
       "    }\n",
       "\n",
       "    .dataframe tbody tr th {\n",
       "        vertical-align: top;\n",
       "    }\n",
       "\n",
       "    .dataframe thead th {\n",
       "        text-align: right;\n",
       "    }\n",
       "</style>\n",
       "<table border=\"1\" class=\"dataframe\">\n",
       "  <thead>\n",
       "    <tr style=\"text-align: right;\">\n",
       "      <th></th>\n",
       "      <th>Unnamed: 0</th>\n",
       "      <th>Crash ID</th>\n",
       "      <th>City</th>\n",
       "      <th>Commercial Motor Vehicle Flag</th>\n",
       "      <th>County</th>\n",
       "      <th>Crash Date</th>\n",
       "      <th>Crash Severity</th>\n",
       "      <th>Crash Time</th>\n",
       "      <th>Day of Week</th>\n",
       "      <th>Latitude</th>\n",
       "      <th>...</th>\n",
       "      <th>Speed Limit</th>\n",
       "      <th>CMV Vehicle Type</th>\n",
       "      <th>Contributing Factor 1</th>\n",
       "      <th>Possible Vehicle Defect 1</th>\n",
       "      <th>Vehicle Defect 1</th>\n",
       "      <th>Person Age</th>\n",
       "      <th>Person Gender</th>\n",
       "      <th>Person Injury Severity</th>\n",
       "      <th>Person Restraint Used</th>\n",
       "      <th>Person Type</th>\n",
       "    </tr>\n",
       "  </thead>\n",
       "  <tbody>\n",
       "    <tr>\n",
       "      <th>4903</th>\n",
       "      <td>6081</td>\n",
       "      <td>19348989</td>\n",
       "      <td>OUTSIDE CITY LIMITS</td>\n",
       "      <td>1</td>\n",
       "      <td>MIDLAND</td>\n",
       "      <td>2022-12-29</td>\n",
       "      <td>K - FATAL INJURY</td>\n",
       "      <td>18:31</td>\n",
       "      <td>THURSDAY</td>\n",
       "      <td>31.965720</td>\n",
       "      <td>...</td>\n",
       "      <td>75</td>\n",
       "      <td>6 - SINGLE UNIT TRUCK 3 OR MORE AXLES</td>\n",
       "      <td>37 - FAILED TO YIELD RIGHT OF WAY - TURNING LEFT</td>\n",
       "      <td>No Vehicle Defect</td>\n",
       "      <td>No Vehicle Defect</td>\n",
       "      <td>52.0</td>\n",
       "      <td>1 - MALE</td>\n",
       "      <td>N - NOT INJURED</td>\n",
       "      <td>1 - SHOULDER &amp; LAP BELT</td>\n",
       "      <td>1 - DRIVER</td>\n",
       "    </tr>\n",
       "    <tr>\n",
       "      <th>4904</th>\n",
       "      <td>6082</td>\n",
       "      <td>19348989</td>\n",
       "      <td>OUTSIDE CITY LIMITS</td>\n",
       "      <td>1</td>\n",
       "      <td>MIDLAND</td>\n",
       "      <td>2022-12-29</td>\n",
       "      <td>K - FATAL INJURY</td>\n",
       "      <td>18:31</td>\n",
       "      <td>THURSDAY</td>\n",
       "      <td>31.965720</td>\n",
       "      <td>...</td>\n",
       "      <td>75</td>\n",
       "      <td>Not CMV</td>\n",
       "      <td>No Contributing Factor</td>\n",
       "      <td>No Vehicle Defect</td>\n",
       "      <td>No Vehicle Defect</td>\n",
       "      <td>41.0</td>\n",
       "      <td>1 - MALE</td>\n",
       "      <td>K - FATAL INJURY</td>\n",
       "      <td>96 - NONE</td>\n",
       "      <td>1 - DRIVER</td>\n",
       "    </tr>\n",
       "    <tr>\n",
       "      <th>4905</th>\n",
       "      <td>6083</td>\n",
       "      <td>19318996</td>\n",
       "      <td>OUTSIDE CITY LIMITS</td>\n",
       "      <td>1</td>\n",
       "      <td>ERATH</td>\n",
       "      <td>2022-12-30</td>\n",
       "      <td>A - SUSPECTED SERIOUS INJURY</td>\n",
       "      <td>11:47</td>\n",
       "      <td>FRIDAY</td>\n",
       "      <td>32.069332</td>\n",
       "      <td>...</td>\n",
       "      <td>75</td>\n",
       "      <td>6 - SINGLE UNIT TRUCK 3 OR MORE AXLES</td>\n",
       "      <td>No Contributing Factor</td>\n",
       "      <td>No Vehicle Defect</td>\n",
       "      <td>No Vehicle Defect</td>\n",
       "      <td>74.0</td>\n",
       "      <td>1 - MALE</td>\n",
       "      <td>N - NOT INJURED</td>\n",
       "      <td>1 - SHOULDER &amp; LAP BELT</td>\n",
       "      <td>1 - DRIVER</td>\n",
       "    </tr>\n",
       "    <tr>\n",
       "      <th>4906</th>\n",
       "      <td>6084</td>\n",
       "      <td>19318996</td>\n",
       "      <td>OUTSIDE CITY LIMITS</td>\n",
       "      <td>1</td>\n",
       "      <td>ERATH</td>\n",
       "      <td>2022-12-30</td>\n",
       "      <td>A - SUSPECTED SERIOUS INJURY</td>\n",
       "      <td>11:47</td>\n",
       "      <td>FRIDAY</td>\n",
       "      <td>32.069332</td>\n",
       "      <td>...</td>\n",
       "      <td>75</td>\n",
       "      <td>Not CMV</td>\n",
       "      <td>22 - FAILED TO CONTROL SPEED</td>\n",
       "      <td>No Vehicle Defect</td>\n",
       "      <td>No Vehicle Defect</td>\n",
       "      <td>29.0</td>\n",
       "      <td>1 - MALE</td>\n",
       "      <td>A - SUSPECTED SERIOUS INJURY</td>\n",
       "      <td>1 - SHOULDER &amp; LAP BELT</td>\n",
       "      <td>1 - DRIVER</td>\n",
       "    </tr>\n",
       "    <tr>\n",
       "      <th>4907</th>\n",
       "      <td>6085</td>\n",
       "      <td>19318996</td>\n",
       "      <td>OUTSIDE CITY LIMITS</td>\n",
       "      <td>1</td>\n",
       "      <td>ERATH</td>\n",
       "      <td>2022-12-30</td>\n",
       "      <td>A - SUSPECTED SERIOUS INJURY</td>\n",
       "      <td>11:47</td>\n",
       "      <td>FRIDAY</td>\n",
       "      <td>32.069332</td>\n",
       "      <td>...</td>\n",
       "      <td>75</td>\n",
       "      <td>Not CMV</td>\n",
       "      <td>22 - FAILED TO CONTROL SPEED</td>\n",
       "      <td>No Vehicle Defect</td>\n",
       "      <td>No Vehicle Defect</td>\n",
       "      <td>26.0</td>\n",
       "      <td>2 - FEMALE</td>\n",
       "      <td>N - NOT INJURED</td>\n",
       "      <td>1 - SHOULDER &amp; LAP BELT</td>\n",
       "      <td>2 - PASSENGER/OCCUPANT</td>\n",
       "    </tr>\n",
       "  </tbody>\n",
       "</table>\n",
       "<p>5 rows × 22 columns</p>\n",
       "</div>"
      ],
      "text/plain": [
       "      Unnamed: 0  Crash ID                 City   \n",
       "4903        6081  19348989  OUTSIDE CITY LIMITS  \\\n",
       "4904        6082  19348989  OUTSIDE CITY LIMITS   \n",
       "4905        6083  19318996  OUTSIDE CITY LIMITS   \n",
       "4906        6084  19318996  OUTSIDE CITY LIMITS   \n",
       "4907        6085  19318996  OUTSIDE CITY LIMITS   \n",
       "\n",
       "      Commercial Motor Vehicle Flag   County  Crash Date   \n",
       "4903                              1  MIDLAND  2022-12-29  \\\n",
       "4904                              1  MIDLAND  2022-12-29   \n",
       "4905                              1    ERATH  2022-12-30   \n",
       "4906                              1    ERATH  2022-12-30   \n",
       "4907                              1    ERATH  2022-12-30   \n",
       "\n",
       "                    Crash Severity Crash Time Day of Week   Latitude  ...   \n",
       "4903              K - FATAL INJURY      18:31    THURSDAY  31.965720  ...  \\\n",
       "4904              K - FATAL INJURY      18:31    THURSDAY  31.965720  ...   \n",
       "4905  A - SUSPECTED SERIOUS INJURY      11:47      FRIDAY  32.069332  ...   \n",
       "4906  A - SUSPECTED SERIOUS INJURY      11:47      FRIDAY  32.069332  ...   \n",
       "4907  A - SUSPECTED SERIOUS INJURY      11:47      FRIDAY  32.069332  ...   \n",
       "\n",
       "      Speed Limit                       CMV Vehicle Type   \n",
       "4903           75  6 - SINGLE UNIT TRUCK 3 OR MORE AXLES  \\\n",
       "4904           75                                Not CMV   \n",
       "4905           75  6 - SINGLE UNIT TRUCK 3 OR MORE AXLES   \n",
       "4906           75                                Not CMV   \n",
       "4907           75                                Not CMV   \n",
       "\n",
       "                                 Contributing Factor 1   \n",
       "4903  37 - FAILED TO YIELD RIGHT OF WAY - TURNING LEFT  \\\n",
       "4904                            No Contributing Factor   \n",
       "4905                            No Contributing Factor   \n",
       "4906                      22 - FAILED TO CONTROL SPEED   \n",
       "4907                      22 - FAILED TO CONTROL SPEED   \n",
       "\n",
       "     Possible Vehicle Defect 1   Vehicle Defect 1 Person Age Person Gender   \n",
       "4903         No Vehicle Defect  No Vehicle Defect       52.0      1 - MALE  \\\n",
       "4904         No Vehicle Defect  No Vehicle Defect       41.0      1 - MALE   \n",
       "4905         No Vehicle Defect  No Vehicle Defect       74.0      1 - MALE   \n",
       "4906         No Vehicle Defect  No Vehicle Defect       29.0      1 - MALE   \n",
       "4907         No Vehicle Defect  No Vehicle Defect       26.0    2 - FEMALE   \n",
       "\n",
       "            Person Injury Severity    Person Restraint Used   \n",
       "4903               N - NOT INJURED  1 - SHOULDER & LAP BELT  \\\n",
       "4904              K - FATAL INJURY                96 - NONE   \n",
       "4905               N - NOT INJURED  1 - SHOULDER & LAP BELT   \n",
       "4906  A - SUSPECTED SERIOUS INJURY  1 - SHOULDER & LAP BELT   \n",
       "4907               N - NOT INJURED  1 - SHOULDER & LAP BELT   \n",
       "\n",
       "                 Person Type  \n",
       "4903              1 - DRIVER  \n",
       "4904              1 - DRIVER  \n",
       "4905              1 - DRIVER  \n",
       "4906              1 - DRIVER  \n",
       "4907  2 - PASSENGER/OCCUPANT  \n",
       "\n",
       "[5 rows x 22 columns]"
      ]
     },
     "execution_count": 17,
     "metadata": {},
     "output_type": "execute_result"
    }
   ],
   "source": [
    "# People involved in week day crashes: \n",
    "weekday_crashes = pd.read_sql_query(\"SELECT * FROM crashes WHERE `Day of Week` NOT IN ('SATURDAY', 'SUNDAY')\", conn)\n",
    "weekday_crashes.tail()"
   ]
  },
  {
   "attachments": {},
   "cell_type": "markdown",
   "metadata": {},
   "source": [
    "Visualizations"
   ]
  },
  {
   "cell_type": "code",
   "execution_count": 18,
   "metadata": {},
   "outputs": [],
   "source": [
    "driver_gender = pd.read_sql_query(\"SELECT DISTINCT `Crash ID`, `Person Gender` FROM crashes WHERE `Person Type` = '1 - DRIVER'\", conn)\n",
    "\n",
    "gender_counts = driver_gender.groupby('Person Gender').count()"
   ]
  },
  {
   "cell_type": "code",
   "execution_count": 19,
   "metadata": {},
   "outputs": [
    {
     "data": {
      "image/png": "[encoded data removed]",
      "text/plain": [
       "<Figure size 640x480 with 1 Axes>"
      ]
     },
     "metadata": {},
     "output_type": "display_data"
    }
   ],
   "source": [
    "# Pie Chart\n",
    "labels=['Male', 'Female', 'Unknown']\n",
    "colors = ['blue', 'red', 'grey']\n",
    "sizes = gender_counts['Crash ID']\n",
    "plt.pie(sizes, labels=labels, colors=colors, autopct='%1.1f%%')\n",
    "plt.title('Gender of Drivers Involved in Commercial Vehicle Crashes with Fatal or Serious Injuries')\n",
    "plt.legend(title='Number of Drivers', loc='upper right', labels=sizes)\n",
    "plt.show()"
   ]
  },
  {
   "cell_type": "code",
   "execution_count": 20,
   "metadata": {},
   "outputs": [],
   "source": [
    "# Bin age groups\n",
    "age_bins = [0, 15, 19, 24, 34, 44, 54, 64, 74, 84, 94, 150]\n",
    "age_labels = ['<16', '16-19', '20-24', '25-34', '35-44', '45-54', '55-64', '65-74', '75-84', '85-94', '>=95']\n",
    "\n",
    "# Get data for serious injuries and fatal injuries by age group\n",
    "serious_injuries = pd.read_sql_query(\"SELECT DISTINCT `Crash ID`, `Person Age`, `Person Injury Severity` FROM crashes WHERE `Person Injury Severity` = 'A - SUSPECTED SERIOUS INJURY' AND `Person Type` = '1 - DRIVER'\", conn)\n",
    "fatal_injuries = pd.read_sql_query(\"SELECT DISTINCT `Crash ID`, `Person Age`, `Person Injury Severity` FROM crashes WHERE `Person Injury Severity` = 'K - FATAL INJURY' AND `Person Type` = '1 - DRIVER'\", conn)\n",
    "\n",
    "# Bin age groups for both injury types\n",
    "serious_injuries['Age Group'] = pd.cut(serious_injuries['Person Age'], bins=age_bins, labels=age_labels, include_lowest=True)\n",
    "fatal_injuries['Age Group'] = pd.cut(fatal_injuries['Person Age'], bins=age_bins, labels=age_labels, include_lowest=True)\n",
    "\n",
    "# Get counts for each age group for both injury types\n",
    "serious_injury_counts = serious_injuries['Age Group'].value_counts().sort_index()\n",
    "fatal_injury_counts = fatal_injuries['Age Group'].value_counts().sort_index()\n",
    "\n",
    "# Combine counts with concat\n",
    "combined_counts = pd.concat([serious_injury_counts, fatal_injury_counts], axis=1)\n",
    "combined_counts.columns = ['Serious Injury', 'Fatal Injury']"
   ]
  },
  {
   "cell_type": "code",
   "execution_count": 21,
   "metadata": {},
   "outputs": [
    {
     "data": {
      "image/png": "[encoded data removed]",
      "text/plain": [
       "<Figure size 640x480 with 1 Axes>"
      ]
     },
     "metadata": {},
     "output_type": "display_data"
    }
   ],
   "source": [
    "# Stacked Horizontal Bar Graph for Age and Injury\n",
    "combined_counts.plot(kind='barh', stacked=True, color=['pink', 'red'])\n",
    "plt.xlabel('Number of Drivers')\n",
    "plt.ylabel('Age Group')\n",
    "plt.title('Number of Drivers Involved in Commercial Vehicle Crashes by Age Group and Injury Severity')\n",
    "plt.show()"
   ]
  },
  {
   "cell_type": "code",
   "execution_count": 22,
   "metadata": {},
   "outputs": [],
   "source": [
    "# Get data for serious injuries and fatal injuries by restraint type\n",
    "restraint_fatal_injuries = pd.read_sql_query(\"SELECT `Crash ID`, `Person Restraint Used`, `Person Injury Severity` FROM crashes WHERE `Person Injury Severity` = 'K - FATAL INJURY'\", conn)\n",
    "restraint_serious_injuries = pd.read_sql_query(\"SELECT `Crash ID`, `Person Restraint Used`, `Person Injury Severity` FROM crashes WHERE `Person Injury Severity` = 'A - SUSPECTED SERIOUS INJURY'\", conn)\n",
    "restraint_minor_injuries = pd.read_sql_query(\"SELECT `Crash ID`, `Person Restraint Used`, `Person Injury Severity` FROM crashes WHERE `Person Injury Severity` = 'B - SUSPECTED MINOR INJURY'\", conn)\n",
    "restraint_possible_injuries = pd.read_sql_query(\"SELECT `Crash ID`, `Person Restraint Used`, `Person Injury Severity` FROM crashes WHERE `Person Injury Severity` = 'C - POSSIBLE INJURY'\", conn)\n",
    "restraint_no_injuries = pd.read_sql_query(\"SELECT `Crash ID`, `Person Restraint Used`, `Person Injury Severity` FROM crashes WHERE `Person Injury Severity` = 'N - NOT INJURED'\", conn)\n",
    "\n",
    "# Get counts for each restraint type for both injury types\n",
    "restraint_fatal_injury_counts = restraint_fatal_injuries['Person Restraint Used'].value_counts().sort_index()\n",
    "restraint_serious_injury_counts = restraint_serious_injuries['Person Restraint Used'].value_counts().sort_index()\n",
    "restraint_minor_injury_counts = restraint_minor_injuries['Person Restraint Used'].value_counts().sort_index()\n",
    "restraint_possible_injury_counts = restraint_possible_injuries['Person Restraint Used'].value_counts().sort_index()\n",
    "restraint_no_injury_counts = restraint_no_injuries['Person Restraint Used'].value_counts().sort_index()\n",
    "\n",
    "\n",
    "# Combine counts with concat\n",
    "restraint_combined_counts = pd.concat([restraint_fatal_injury_counts, restraint_serious_injury_counts, restraint_minor_injury_counts, restraint_possible_injury_counts, restraint_no_injury_counts], axis=1)\n",
    "restraint_combined_counts.columns = ['Fatal Injury', 'Serious Injury', 'Minor Injury', 'Possible Injury', 'No Injury']"
   ]
  },
  {
   "cell_type": "code",
   "execution_count": 23,
   "metadata": {},
   "outputs": [
    {
     "data": {
      "text/html": [
       "<div>\n",
       "<style scoped>\n",
       "    .dataframe tbody tr th:only-of-type {\n",
       "        vertical-align: middle;\n",
       "    }\n",
       "\n",
       "    .dataframe tbody tr th {\n",
       "        vertical-align: top;\n",
       "    }\n",
       "\n",
       "    .dataframe thead th {\n",
       "        text-align: right;\n",
       "    }\n",
       "</style>\n",
       "<table border=\"1\" class=\"dataframe\">\n",
       "  <thead>\n",
       "    <tr style=\"text-align: right;\">\n",
       "      <th></th>\n",
       "      <th>Crash ID</th>\n",
       "      <th>Person Restraint Used</th>\n",
       "      <th>Person Injury Severity</th>\n",
       "    </tr>\n",
       "  </thead>\n",
       "  <tbody>\n",
       "    <tr>\n",
       "      <th>0</th>\n",
       "      <td>18674968</td>\n",
       "      <td>1 - SHOULDER &amp; LAP BELT</td>\n",
       "      <td>A - SUSPECTED SERIOUS INJURY</td>\n",
       "    </tr>\n",
       "    <tr>\n",
       "      <th>1</th>\n",
       "      <td>18676126</td>\n",
       "      <td>97 - NOT APPLICABLE</td>\n",
       "      <td>A - SUSPECTED SERIOUS INJURY</td>\n",
       "    </tr>\n",
       "    <tr>\n",
       "      <th>2</th>\n",
       "      <td>18679166</td>\n",
       "      <td>96 - NONE</td>\n",
       "      <td>A - SUSPECTED SERIOUS INJURY</td>\n",
       "    </tr>\n",
       "    <tr>\n",
       "      <th>3</th>\n",
       "      <td>18680919</td>\n",
       "      <td>98 - OTHER (EXPLAIN IN NARRATIVE)</td>\n",
       "      <td>A - SUSPECTED SERIOUS INJURY</td>\n",
       "    </tr>\n",
       "    <tr>\n",
       "      <th>4</th>\n",
       "      <td>18684709</td>\n",
       "      <td>1 - SHOULDER &amp; LAP BELT</td>\n",
       "      <td>A - SUSPECTED SERIOUS INJURY</td>\n",
       "    </tr>\n",
       "    <tr>\n",
       "      <th>...</th>\n",
       "      <td>...</td>\n",
       "      <td>...</td>\n",
       "      <td>...</td>\n",
       "    </tr>\n",
       "    <tr>\n",
       "      <th>1658</th>\n",
       "      <td>19318996</td>\n",
       "      <td>1 - SHOULDER &amp; LAP BELT</td>\n",
       "      <td>A - SUSPECTED SERIOUS INJURY</td>\n",
       "    </tr>\n",
       "    <tr>\n",
       "      <th>1659</th>\n",
       "      <td>19324110</td>\n",
       "      <td>96 - NONE</td>\n",
       "      <td>A - SUSPECTED SERIOUS INJURY</td>\n",
       "    </tr>\n",
       "    <tr>\n",
       "      <th>1660</th>\n",
       "      <td>19324110</td>\n",
       "      <td>96 - NONE</td>\n",
       "      <td>A - SUSPECTED SERIOUS INJURY</td>\n",
       "    </tr>\n",
       "    <tr>\n",
       "      <th>1661</th>\n",
       "      <td>19325090</td>\n",
       "      <td>97 - NOT APPLICABLE</td>\n",
       "      <td>A - SUSPECTED SERIOUS INJURY</td>\n",
       "    </tr>\n",
       "    <tr>\n",
       "      <th>1662</th>\n",
       "      <td>19415282</td>\n",
       "      <td>1 - SHOULDER &amp; LAP BELT</td>\n",
       "      <td>A - SUSPECTED SERIOUS INJURY</td>\n",
       "    </tr>\n",
       "  </tbody>\n",
       "</table>\n",
       "<p>1663 rows × 3 columns</p>\n",
       "</div>"
      ],
      "text/plain": [
       "      Crash ID              Person Restraint Used   \n",
       "0     18674968            1 - SHOULDER & LAP BELT  \\\n",
       "1     18676126                97 - NOT APPLICABLE   \n",
       "2     18679166                          96 - NONE   \n",
       "3     18680919  98 - OTHER (EXPLAIN IN NARRATIVE)   \n",
       "4     18684709            1 - SHOULDER & LAP BELT   \n",
       "...        ...                                ...   \n",
       "1658  19318996            1 - SHOULDER & LAP BELT   \n",
       "1659  19324110                          96 - NONE   \n",
       "1660  19324110                          96 - NONE   \n",
       "1661  19325090                97 - NOT APPLICABLE   \n",
       "1662  19415282            1 - SHOULDER & LAP BELT   \n",
       "\n",
       "            Person Injury Severity  \n",
       "0     A - SUSPECTED SERIOUS INJURY  \n",
       "1     A - SUSPECTED SERIOUS INJURY  \n",
       "2     A - SUSPECTED SERIOUS INJURY  \n",
       "3     A - SUSPECTED SERIOUS INJURY  \n",
       "4     A - SUSPECTED SERIOUS INJURY  \n",
       "...                            ...  \n",
       "1658  A - SUSPECTED SERIOUS INJURY  \n",
       "1659  A - SUSPECTED SERIOUS INJURY  \n",
       "1660  A - SUSPECTED SERIOUS INJURY  \n",
       "1661  A - SUSPECTED SERIOUS INJURY  \n",
       "1662  A - SUSPECTED SERIOUS INJURY  \n",
       "\n",
       "[1663 rows x 3 columns]"
      ]
     },
     "execution_count": 23,
     "metadata": {},
     "output_type": "execute_result"
    }
   ],
   "source": [
    "restraint_serious_injuries"
   ]
  },
  {
   "cell_type": "code",
   "execution_count": 24,
   "metadata": {},
   "outputs": [
    {
     "data": {
      "image/png": "[encoded data removed]",
      "text/plain": [
       "<Figure size 640x480 with 1 Axes>"
      ]
     },
     "metadata": {},
     "output_type": "display_data"
    }
   ],
   "source": [
    "restraint_combined_counts.plot(kind='barh', stacked=True, color=['red', 'orange', 'yellow', 'blue', 'green'])\n",
    "plt.xlabel('Number of Injured Persons')\n",
    "plt.ylabel('Restraint Type')\n",
    "plt.title('Injury Severity by Restraint Type for Commercial Vehicle Crashes')\n",
    "plt.show()\n",
    "\n"
   ]
  },
  {
   "cell_type": "code",
   "execution_count": 25,
   "metadata": {},
   "outputs": [
    {
     "data": {
      "text/plain": [
       "Contributing Factor 1                            \n",
       "No Contributing Factor                               2995\n",
       "22 - FAILED TO CONTROL SPEED                          599\n",
       "98 - OTHER (EXPLAIN IN NARRATIVE)                     330\n",
       "23 - FAILED TO DRIVE IN SINGLE LANE                   268\n",
       "35 - FAILED TO YIELD RIGHT OF WAY - STOP SIGN         246\n",
       "60 - UNSAFE SPEED                                     167\n",
       "20 - DRIVER INATTENTION                               117\n",
       "34 - FAILED TO YIELD RIGHT OF WAY - PRIVATE DRIVE      97\n",
       "15 - DISREGARD STOP AND GO SIGNAL                      88\n",
       "70 - WRONG SIDE - NOT PASSING                          84\n",
       "4 - CHANGED LANE WHEN UNSAFE                           81\n",
       "Name: count, dtype: int64"
      ]
     },
     "execution_count": 25,
     "metadata": {},
     "output_type": "execute_result"
    }
   ],
   "source": [
    "contributing_factors = pd.read_sql_query(\"SELECT `Contributing Factor 1` FROM crashes\", conn)\n",
    "\n",
    "top_contributing_factors = contributing_factors.value_counts().head(11)\n",
    "\n",
    "top_contributing_factors"
   ]
  },
  {
   "cell_type": "code",
   "execution_count": 26,
   "metadata": {},
   "outputs": [],
   "source": [
    "speed_limit_counts = pd.read_sql_query(\"SELECT `Speed Limit`, COUNT(DISTINCT `Crash ID`) as Crash_Count FROM crashes GROUP BY `Speed Limit`\", conn)"
   ]
  },
  {
   "cell_type": "code",
   "execution_count": 27,
   "metadata": {},
   "outputs": [
    {
     "data": {
      "image/png": "[encoded data removed]",
      "text/plain": [
       "<Figure size 640x480 with 1 Axes>"
      ]
     },
     "metadata": {},
     "output_type": "display_data"
    }
   ],
   "source": [
    "plt.bar(speed_limit_counts['Speed Limit'], speed_limit_counts['Crash_Count'])\n",
    "plt.xlabel('Speed Limit')\n",
    "plt.ylabel('Number of Crashes')\n",
    "plt.title('Number of Commercial Vehicle Fatal/Serious Injury Crashes by Speed Limit')\n",
    "plt.show()"
   ]
  },
  {
   "cell_type": "code",
   "execution_count": 28,
   "metadata": {},
   "outputs": [],
   "source": [
    "# Read the data from the 'crashes' table\n",
    "crash_data = pd.read_sql_query(\"SELECT * FROM crashes\", conn)\n",
    "\n",
    "# Extract the hour from the Crash Time column\n",
    "crash_data['Hour'] = crash_data['Crash Time'].apply(lambda x: int(x.split(':')[0]))\n",
    "\n",
    "# Group the data by 'Day of Week' and 'Hour', and count the number of distinct Crash IDs\n",
    "grouped_data = crash_data.groupby(['Day of Week', 'Hour'])['Crash ID'].nunique().reset_index(name='Crash_Count')\n",
    "\n",
    "# Pivot the data to create a DataFrame with 'Hour' as the index, and each day of the week as a separate column\n",
    "pivoted_data = grouped_data.pivot_table(index='Hour', columns='Day of Week', values='Crash_Count', fill_value=0)"
   ]
  },
  {
   "cell_type": "code",
   "execution_count": 29,
   "metadata": {},
   "outputs": [
    {
     "data": {
      "image/png": "[encoded data removed]",
      "text/plain": [
       "<Figure size 1200x600 with 1 Axes>"
      ]
     },
     "metadata": {},
     "output_type": "display_data"
    }
   ],
   "source": [
    "# Stacked bar graph for Day and Time\n",
    "ax = pivoted_data.plot(kind='bar', stacked=True, figsize=(12, 6), colormap='viridis')\n",
    "ax.set_xlabel('Hour of  Day')\n",
    "ax.set_ylabel('Number of Crashes')\n",
    "ax.set_title('Number of Crashes by Hour and Day of the Week')\n",
    "plt.xticks(range(0, 24), range(0, 24))\n",
    "plt.legend(title='Day of the Week')\n",
    "plt.show()"
   ]
  },
  {
   "cell_type": "code",
   "execution_count": 30,
   "metadata": {},
   "outputs": [],
   "source": [
    "# Close connection\n",
    "conn.close()"
   ]
  }
 ],
 "metadata": {
  "kernelspec": {
   "display_name": "PandasJupyter",
   "language": "python",
   "name": "python3"
  },
  "language_info": {
   "codemirror_mode": {
    "name": "ipython",
    "version": 3
   },
   "file_extension": ".py",
   "mimetype": "text/x-python",
   "name": "python",
   "nbconvert_exporter": "python",
   "pygments_lexer": "ipython3",
   "version": "3.9.15"
  },
  "orig_nbformat": 4
 },
 "nbformat": 4,
 "nbformat_minor": 2
}
